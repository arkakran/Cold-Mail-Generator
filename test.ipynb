{
 "cells": [
  {
   "cell_type": "code",
   "execution_count": 1,
   "metadata": {},
   "outputs": [
    {
     "name": "stdout",
     "output_type": "stream",
     "text": [
      "The first Prime Minister of India was Jawaharlal Nehru. He served as the Prime Minister from August 15, 1947, to May 27, 1964. Nehru was a key figure in India's struggle for independence and played a significant role in shaping the country's early years after independence. He was a close associate of Mahatma Gandhi and became the first Prime Minister of India after Gandhi's assassination.\n"
     ]
    }
   ],
   "source": [
    "from langchain_groq import ChatGroq\n",
    "\n",
    "llm = ChatGroq(\n",
    "    temperature=0,\n",
    "    groq_api_key = \"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\",\n",
    "    model_name = \"llama-3.3-70b-versatile\"\n",
    ")\n",
    "response = llm.invoke(\"Who is the first prime minister of india?\")\n",
    "print(response.content)"
   ]
  },
  {
   "cell_type": "code",
   "execution_count": 2,
   "metadata": {},
   "outputs": [],
   "source": [
    "import chromadb\n",
    "client = chromadb.Client()\n",
    "collection = client.create_collection(name=\"my_collection\")"
   ]
  },
  {
   "cell_type": "code",
   "execution_count": 3,
   "metadata": {},
   "outputs": [],
   "source": [
    "collection.add(\n",
    "    documents = [\n",
    "        \"This document is about New York\",\n",
    "        \"This document is about Delhi \"\n",
    "    ],\n",
    "    ids = ['id1','id2']\n",
    ")"
   ]
  },
  {
   "cell_type": "code",
   "execution_count": 4,
   "metadata": {},
   "outputs": [
    {
     "data": {
      "text/plain": [
       "{'ids': ['id1', 'id2'],\n",
       " 'embeddings': None,\n",
       " 'documents': ['This document is about New York',\n",
       "  'This document is about Delhi '],\n",
       " 'uris': None,\n",
       " 'data': None,\n",
       " 'metadatas': [None, None],\n",
       " 'included': [<IncludeEnum.documents: 'documents'>,\n",
       "  <IncludeEnum.metadatas: 'metadatas'>]}"
      ]
     },
     "execution_count": 4,
     "metadata": {},
     "output_type": "execute_result"
    }
   ],
   "source": [
    "all_docs = collection.get()\n",
    "all_docs"
   ]
  },
  {
   "cell_type": "code",
   "execution_count": 5,
   "metadata": {},
   "outputs": [
    {
     "data": {
      "text/plain": [
       "{'ids': ['id1'],\n",
       " 'embeddings': None,\n",
       " 'documents': ['This document is about New York'],\n",
       " 'uris': None,\n",
       " 'data': None,\n",
       " 'metadatas': [None],\n",
       " 'included': [<IncludeEnum.documents: 'documents'>,\n",
       "  <IncludeEnum.metadatas: 'metadatas'>]}"
      ]
     },
     "execution_count": 5,
     "metadata": {},
     "output_type": "execute_result"
    }
   ],
   "source": [
    "documents = collection.get(ids=[\"id1\"])\n",
    "documents"
   ]
  },
  {
   "cell_type": "code",
   "execution_count": 6,
   "metadata": {},
   "outputs": [
    {
     "data": {
      "text/plain": [
       "{'ids': [['id2', 'id1']],\n",
       " 'embeddings': None,\n",
       " 'documents': [['This document is about Delhi ',\n",
       "   'This document is about New York']],\n",
       " 'uris': None,\n",
       " 'data': None,\n",
       " 'metadatas': [[None, None]],\n",
       " 'distances': [[1.5588479042053223, 1.8114912509918213]],\n",
       " 'included': [<IncludeEnum.distances: 'distances'>,\n",
       "  <IncludeEnum.documents: 'documents'>,\n",
       "  <IncludeEnum.metadatas: 'metadatas'>]}"
      ]
     },
     "execution_count": 6,
     "metadata": {},
     "output_type": "execute_result"
    }
   ],
   "source": [
    "results = collection.query(\n",
    "    query_texts = [\"Query is about Chhole Bhature\"],\n",
    "    n_results = 2\n",
    ")\n",
    "results"
   ]
  },
  {
   "cell_type": "code",
   "execution_count": 7,
   "metadata": {},
   "outputs": [
    {
     "data": {
      "text/plain": [
       "{'ids': [['id2', 'id1']],\n",
       " 'embeddings': None,\n",
       " 'documents': [['This document is about Delhi ',\n",
       "   'This document is about New York']],\n",
       " 'uris': None,\n",
       " 'data': None,\n",
       " 'metadatas': [[None, None]],\n",
       " 'distances': [[1.4982374906539917, 1.6413264274597168]],\n",
       " 'included': [<IncludeEnum.distances: 'distances'>,\n",
       "  <IncludeEnum.documents: 'documents'>,\n",
       "  <IncludeEnum.metadatas: 'metadatas'>]}"
      ]
     },
     "execution_count": 7,
     "metadata": {},
     "output_type": "execute_result"
    }
   ],
   "source": [
    "results = collection.query(\n",
    "    query_texts = [\"Query is about Pollution\"],\n",
    "    n_results = 2\n",
    ")\n",
    "results"
   ]
  },
  {
   "cell_type": "code",
   "execution_count": null,
   "metadata": {},
   "outputs": [],
   "source": []
  },
  {
   "cell_type": "code",
   "execution_count": 8,
   "metadata": {},
   "outputs": [],
   "source": [
    "from langchain_groq import ChatGroq"
   ]
  },
  {
   "cell_type": "code",
   "execution_count": 9,
   "metadata": {},
   "outputs": [
    {
     "name": "stdout",
     "output_type": "stream",
     "text": [
      "The first person to land on the moon was Neil Armstrong. He stepped out of the lunar module Eagle and onto the moon's surface on July 20, 1969, as part of the Apollo 11 mission. Armstrong famously declared, \"That's one small step for man, one giant leap for mankind,\" as he became the first human to set foot on the moon.\n"
     ]
    }
   ],
   "source": [
    "\n",
    "llm = ChatGroq(\n",
    "    temperature=0, \n",
    "    groq_api_key='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', \n",
    "    model_name=\"llama-3.1-70b-versatile\"\n",
    ")\n",
    "response = llm.invoke(\"The first person to land on moon was ...\")\n",
    "print(response.content)"
   ]
  },
  {
   "cell_type": "code",
   "execution_count": 10,
   "metadata": {},
   "outputs": [
    {
     "name": "stderr",
     "output_type": "stream",
     "text": [
      "USER_AGENT environment variable not set, consider setting it to identify your requests.\n"
     ]
    },
    {
     "name": "stdout",
     "output_type": "stream",
     "text": [
      "\n",
      "\n",
      "Search JobsSkip navigationSearch JobsNIKE, INC. JOBSContract JobsJoin The Talent CommunityLife @ NikeOverviewBenefitsBrandsOverviewJordanConverseTeamsOverviewAdministrative SupportAdvanced InnovationAir Manufacturing InnovationAviationCommunicationsCustomer ServiceDesignDigitalFacilitiesFinance & AccountingGovernment & Public AffairsHuman ResourcesInsights & AnalyticsLegalManufacturing & EngineeringMarketingMerchandisingPlanningPrivacyProcurementProduct Creation, Development & ManagementRetail CorporateRetail StoresSalesSocial & Community ImpactSports MarketingStrategic PlanningSupply Chain, Distribution & LogisticsSustainabilityTechnologyLocationsOverviewNike WHQNike New York HQEHQ: Hilversum, The NetherlandsELC: Laakdal, BelgiumGreater China HQDiversity, Equity & InclusionOverviewMilitary InclusionDisability InclusionIndigenous InclusionInternshipsFIND A STOREBECOME A MEMBERSIGN UP FOR EMAILSEND US FEEDBACKSTUDENT DISCOUNTSGET HELPGET HELPOrder StatusDeliveryReturnsPayment OptionsContact Us On Nike.com InquiriesContact Us On All Other InquiriesABOUT NIKEABOUT NIKENewsCareersInvestorsSustainabilityIndia© 2025 Nike, Inc. All Rights ReservedGuidesNike AdaptNike Air MaxNike FlyleatherNike PegasusNike Zoom FlyNike AirNike FlyEaseNike FreeNike ReactNike ZoomXNike Air Force 1Nike FlyknitNike JoyrideNike VaporflyTerms of SaleTerms of UseNike Privacy Policy\n"
     ]
    }
   ],
   "source": [
    "from langchain_community.document_loaders import WebBaseLoader\n",
    "\n",
    "# URL of the job posting\n",
    "url = \"https://jobs.nike.com/job/R-33460\"\n",
    "\n",
    "# Load the webpage content\n",
    "loader = WebBaseLoader(url)\n",
    "page_data = loader.load().pop().page_content\n",
    "\n",
    "# Print the scraped job description\n",
    "print(page_data)\n"
   ]
  },
  {
   "cell_type": "code",
   "execution_count": 22,
   "metadata": {},
   "outputs": [
    {
     "data": {
      "text/plain": [
       "str"
      ]
     },
     "execution_count": 22,
     "metadata": {},
     "output_type": "execute_result"
    }
   ],
   "source": [
    "from langchain_core.prompts import PromptTemplate\n",
    "prompt_extract = PromptTemplate.from_template(\n",
    "    \"\"\"\n",
    "    ### SCRAPED TEXT FROM WEBSITE:\n",
    "    {page_data}\n",
    "    ### INSTRUCTION:\n",
    "    The scraped text is from the career's page of a website.\n",
    "    Your job is to extract the job postings and return them in a single JSON object.\n",
    "    The object should have one key, `roles`, which contains a list of dictionaries.\n",
    "    Each dictionary in the list must include the following keys: `role`, `experience`, `skills`, and `description`.\n",
    "    Ensure the response is a valid JSON object and does not include any preamble or additional text.\n",
    "    ### VALID JSON (NO PREAMBLE):    \n",
    "    \"\"\"\n",
    ")\n",
    "chain_extract = prompt_extract | llm \n",
    "res = chain_extract.invoke(input={'page_data':page_data})\n",
    "type(res.content)"
   ]
  },
  {
   "cell_type": "code",
   "execution_count": 23,
   "metadata": {},
   "outputs": [
    {
     "data": {
      "text/plain": [
       "{'roles': [{'role': 'Administrative Support',\n",
       "   'experience': 'Not specified',\n",
       "   'skills': 'Not specified',\n",
       "   'description': 'Provide administrative support to various teams'},\n",
       "  {'role': 'Advanced Innovation',\n",
       "   'experience': 'Not specified',\n",
       "   'skills': 'Not specified',\n",
       "   'description': 'Drive innovation through advanced technologies'},\n",
       "  {'role': 'Air Manufacturing Innovation',\n",
       "   'experience': 'Not specified',\n",
       "   'skills': 'Not specified',\n",
       "   'description': 'Innovate and improve air manufacturing processes'},\n",
       "  {'role': 'Aviation',\n",
       "   'experience': 'Not specified',\n",
       "   'skills': 'Not specified',\n",
       "   'description': 'Support aviation-related activities'},\n",
       "  {'role': 'Communications',\n",
       "   'experience': 'Not specified',\n",
       "   'skills': 'Not specified',\n",
       "   'description': 'Develop and implement communication strategies'},\n",
       "  {'role': 'Customer Service',\n",
       "   'experience': 'Not specified',\n",
       "   'skills': 'Not specified',\n",
       "   'description': 'Provide excellent customer service'},\n",
       "  {'role': 'Design',\n",
       "   'experience': 'Not specified',\n",
       "   'skills': 'Not specified',\n",
       "   'description': 'Create innovative designs for various products'},\n",
       "  {'role': 'Digital',\n",
       "   'experience': 'Not specified',\n",
       "   'skills': 'Not specified',\n",
       "   'description': 'Develop and implement digital strategies'},\n",
       "  {'role': 'Facilities',\n",
       "   'experience': 'Not specified',\n",
       "   'skills': 'Not specified',\n",
       "   'description': 'Manage and maintain facilities'},\n",
       "  {'role': 'Finance & Accounting',\n",
       "   'experience': 'Not specified',\n",
       "   'skills': 'Not specified',\n",
       "   'description': 'Manage financial and accounting activities'},\n",
       "  {'role': 'Government & Public Affairs',\n",
       "   'experience': 'Not specified',\n",
       "   'skills': 'Not specified',\n",
       "   'description': 'Interact with government and public affairs'},\n",
       "  {'role': 'Human Resources',\n",
       "   'experience': 'Not specified',\n",
       "   'skills': 'Not specified',\n",
       "   'description': 'Manage human resources activities'},\n",
       "  {'role': 'Insights & Analytics',\n",
       "   'experience': 'Not specified',\n",
       "   'skills': 'Not specified',\n",
       "   'description': 'Provide insights and analytics to drive business decisions'},\n",
       "  {'role': 'Legal',\n",
       "   'experience': 'Not specified',\n",
       "   'skills': 'Not specified',\n",
       "   'description': 'Provide legal support and guidance'},\n",
       "  {'role': 'Manufacturing & Engineering',\n",
       "   'experience': 'Not specified',\n",
       "   'skills': 'Not specified',\n",
       "   'description': 'Manage manufacturing and engineering activities'},\n",
       "  {'role': 'Marketing',\n",
       "   'experience': 'Not specified',\n",
       "   'skills': 'Not specified',\n",
       "   'description': 'Develop and implement marketing strategies'},\n",
       "  {'role': 'Merchandising',\n",
       "   'experience': 'Not specified',\n",
       "   'skills': 'Not specified',\n",
       "   'description': 'Manage merchandising activities'},\n",
       "  {'role': 'Planning',\n",
       "   'experience': 'Not specified',\n",
       "   'skills': 'Not specified',\n",
       "   'description': 'Develop and implement plans'},\n",
       "  {'role': 'Privacy',\n",
       "   'experience': 'Not specified',\n",
       "   'skills': 'Not specified',\n",
       "   'description': 'Manage privacy-related activities'},\n",
       "  {'role': 'Procurement',\n",
       "   'experience': 'Not specified',\n",
       "   'skills': 'Not specified',\n",
       "   'description': 'Manage procurement activities'},\n",
       "  {'role': 'Product Creation, Development & Management',\n",
       "   'experience': 'Not specified',\n",
       "   'skills': 'Not specified',\n",
       "   'description': 'Create, develop, and manage products'},\n",
       "  {'role': 'Retail Corporate',\n",
       "   'experience': 'Not specified',\n",
       "   'skills': 'Not specified',\n",
       "   'description': 'Manage retail corporate activities'},\n",
       "  {'role': 'Retail Stores',\n",
       "   'experience': 'Not specified',\n",
       "   'skills': 'Not specified',\n",
       "   'description': 'Manage retail stores'},\n",
       "  {'role': 'Sales',\n",
       "   'experience': 'Not specified',\n",
       "   'skills': 'Not specified',\n",
       "   'description': 'Drive sales and revenue growth'},\n",
       "  {'role': 'Social & Community Impact',\n",
       "   'experience': 'Not specified',\n",
       "   'skills': 'Not specified',\n",
       "   'description': 'Create positive social and community impact'},\n",
       "  {'role': 'Sports Marketing',\n",
       "   'experience': 'Not specified',\n",
       "   'skills': 'Not specified',\n",
       "   'description': 'Develop and implement sports marketing strategies'},\n",
       "  {'role': 'Strategic Planning',\n",
       "   'experience': 'Not specified',\n",
       "   'skills': 'Not specified',\n",
       "   'description': 'Develop and implement strategic plans'},\n",
       "  {'role': 'Supply Chain, Distribution & Logistics',\n",
       "   'experience': 'Not specified',\n",
       "   'skills': 'Not specified',\n",
       "   'description': 'Manage supply chain, distribution, and logistics activities'},\n",
       "  {'role': 'Sustainability',\n",
       "   'experience': 'Not specified',\n",
       "   'skills': 'Not specified',\n",
       "   'description': 'Promote sustainability and environmental responsibility'},\n",
       "  {'role': 'Technology',\n",
       "   'experience': 'Not specified',\n",
       "   'skills': 'Not specified',\n",
       "   'description': 'Develop and implement technology solutions'}]}"
      ]
     },
     "execution_count": 23,
     "metadata": {},
     "output_type": "execute_result"
    }
   ],
   "source": [
    "from langchain_core.output_parsers import JsonOutputParser\n",
    "\n",
    "json_parser = JsonOutputParser()\n",
    "json_res = json_parser.parse(res.content)\n",
    "json_res\n"
   ]
  },
  {
   "cell_type": "code",
   "execution_count": 14,
   "metadata": {},
   "outputs": [
    {
     "data": {
      "text/html": [
       "<div>\n",
       "<style scoped>\n",
       "    .dataframe tbody tr th:only-of-type {\n",
       "        vertical-align: middle;\n",
       "    }\n",
       "\n",
       "    .dataframe tbody tr th {\n",
       "        vertical-align: top;\n",
       "    }\n",
       "\n",
       "    .dataframe thead th {\n",
       "        text-align: right;\n",
       "    }\n",
       "</style>\n",
       "<table border=\"1\" class=\"dataframe\">\n",
       "  <thead>\n",
       "    <tr style=\"text-align: right;\">\n",
       "      <th></th>\n",
       "      <th>Techstack</th>\n",
       "      <th>Links</th>\n",
       "    </tr>\n",
       "  </thead>\n",
       "  <tbody>\n",
       "    <tr>\n",
       "      <th>0</th>\n",
       "      <td>React, Node.js, MongoDB</td>\n",
       "      <td>https://example.com/react-portfolio</td>\n",
       "    </tr>\n",
       "    <tr>\n",
       "      <th>1</th>\n",
       "      <td>Angular,.NET, SQL Server</td>\n",
       "      <td>https://example.com/angular-portfolio</td>\n",
       "    </tr>\n",
       "    <tr>\n",
       "      <th>2</th>\n",
       "      <td>Vue.js, Ruby on Rails, PostgreSQL</td>\n",
       "      <td>https://example.com/vue-portfolio</td>\n",
       "    </tr>\n",
       "    <tr>\n",
       "      <th>3</th>\n",
       "      <td>Python, Django, MySQL</td>\n",
       "      <td>https://example.com/python-portfolio</td>\n",
       "    </tr>\n",
       "    <tr>\n",
       "      <th>4</th>\n",
       "      <td>Java, Spring Boot, Oracle</td>\n",
       "      <td>https://example.com/java-portfolio</td>\n",
       "    </tr>\n",
       "    <tr>\n",
       "      <th>5</th>\n",
       "      <td>Flutter, Firebase, GraphQL</td>\n",
       "      <td>https://example.com/flutter-portfolio</td>\n",
       "    </tr>\n",
       "    <tr>\n",
       "      <th>6</th>\n",
       "      <td>WordPress, PHP, MySQL</td>\n",
       "      <td>https://example.com/wordpress-portfolio</td>\n",
       "    </tr>\n",
       "    <tr>\n",
       "      <th>7</th>\n",
       "      <td>Magento, PHP, MySQL</td>\n",
       "      <td>https://example.com/magento-portfolio</td>\n",
       "    </tr>\n",
       "    <tr>\n",
       "      <th>8</th>\n",
       "      <td>React Native, Node.js, MongoDB</td>\n",
       "      <td>https://example.com/react-native-portfolio</td>\n",
       "    </tr>\n",
       "    <tr>\n",
       "      <th>9</th>\n",
       "      <td>iOS, Swift, Core Data</td>\n",
       "      <td>https://example.com/ios-portfolio</td>\n",
       "    </tr>\n",
       "    <tr>\n",
       "      <th>10</th>\n",
       "      <td>Android, Java, Room Persistence</td>\n",
       "      <td>https://example.com/android-portfolio</td>\n",
       "    </tr>\n",
       "    <tr>\n",
       "      <th>11</th>\n",
       "      <td>Kotlin, Android, Firebase</td>\n",
       "      <td>https://example.com/kotlin-android-portfolio</td>\n",
       "    </tr>\n",
       "    <tr>\n",
       "      <th>12</th>\n",
       "      <td>Android TV, Kotlin, Android NDK</td>\n",
       "      <td>https://example.com/android-tv-portfolio</td>\n",
       "    </tr>\n",
       "    <tr>\n",
       "      <th>13</th>\n",
       "      <td>iOS, Swift, ARKit</td>\n",
       "      <td>https://example.com/ios-ar-portfolio</td>\n",
       "    </tr>\n",
       "    <tr>\n",
       "      <th>14</th>\n",
       "      <td>Cross-platform, Xamarin, Azure</td>\n",
       "      <td>https://example.com/xamarin-portfolio</td>\n",
       "    </tr>\n",
       "    <tr>\n",
       "      <th>15</th>\n",
       "      <td>Backend, Kotlin, Spring Boot</td>\n",
       "      <td>https://example.com/kotlin-backend-portfolio</td>\n",
       "    </tr>\n",
       "    <tr>\n",
       "      <th>16</th>\n",
       "      <td>Frontend, TypeScript, Angular</td>\n",
       "      <td>https://example.com/typescript-frontend-portfolio</td>\n",
       "    </tr>\n",
       "    <tr>\n",
       "      <th>17</th>\n",
       "      <td>Full-stack, JavaScript, Express.js</td>\n",
       "      <td>https://example.com/full-stack-js-portfolio</td>\n",
       "    </tr>\n",
       "    <tr>\n",
       "      <th>18</th>\n",
       "      <td>Machine Learning, Python, TensorFlow</td>\n",
       "      <td>https://example.com/ml-python-portfolio</td>\n",
       "    </tr>\n",
       "    <tr>\n",
       "      <th>19</th>\n",
       "      <td>DevOps, Jenkins, Docker</td>\n",
       "      <td>https://example.com/devops-portfolio</td>\n",
       "    </tr>\n",
       "  </tbody>\n",
       "</table>\n",
       "</div>"
      ],
      "text/plain": [
       "                               Techstack  \\\n",
       "0                React, Node.js, MongoDB   \n",
       "1               Angular,.NET, SQL Server   \n",
       "2      Vue.js, Ruby on Rails, PostgreSQL   \n",
       "3                  Python, Django, MySQL   \n",
       "4              Java, Spring Boot, Oracle   \n",
       "5             Flutter, Firebase, GraphQL   \n",
       "6                  WordPress, PHP, MySQL   \n",
       "7                    Magento, PHP, MySQL   \n",
       "8         React Native, Node.js, MongoDB   \n",
       "9                  iOS, Swift, Core Data   \n",
       "10       Android, Java, Room Persistence   \n",
       "11             Kotlin, Android, Firebase   \n",
       "12       Android TV, Kotlin, Android NDK   \n",
       "13                     iOS, Swift, ARKit   \n",
       "14        Cross-platform, Xamarin, Azure   \n",
       "15          Backend, Kotlin, Spring Boot   \n",
       "16         Frontend, TypeScript, Angular   \n",
       "17    Full-stack, JavaScript, Express.js   \n",
       "18  Machine Learning, Python, TensorFlow   \n",
       "19               DevOps, Jenkins, Docker   \n",
       "\n",
       "                                                Links  \n",
       "0                 https://example.com/react-portfolio  \n",
       "1               https://example.com/angular-portfolio  \n",
       "2                   https://example.com/vue-portfolio  \n",
       "3                https://example.com/python-portfolio  \n",
       "4                  https://example.com/java-portfolio  \n",
       "5               https://example.com/flutter-portfolio  \n",
       "6             https://example.com/wordpress-portfolio  \n",
       "7               https://example.com/magento-portfolio  \n",
       "8          https://example.com/react-native-portfolio  \n",
       "9                   https://example.com/ios-portfolio  \n",
       "10              https://example.com/android-portfolio  \n",
       "11       https://example.com/kotlin-android-portfolio  \n",
       "12           https://example.com/android-tv-portfolio  \n",
       "13               https://example.com/ios-ar-portfolio  \n",
       "14              https://example.com/xamarin-portfolio  \n",
       "15       https://example.com/kotlin-backend-portfolio  \n",
       "16  https://example.com/typescript-frontend-portfolio  \n",
       "17        https://example.com/full-stack-js-portfolio  \n",
       "18            https://example.com/ml-python-portfolio  \n",
       "19               https://example.com/devops-portfolio  "
      ]
     },
     "execution_count": 14,
     "metadata": {},
     "output_type": "execute_result"
    }
   ],
   "source": [
    "import pandas as pd\n",
    "\n",
    "df = pd.read_csv(\"my_portfolio.csv\")\n",
    "df"
   ]
  },
  {
   "cell_type": "code",
   "execution_count": 15,
   "metadata": {},
   "outputs": [],
   "source": [
    "import uuid\n",
    "import chromadb\n",
    "\n",
    "client = chromadb.PersistentClient('vectorstore')\n",
    "collection = client.get_or_create_collection(name=\"portfolio\")\n",
    "\n",
    "if not collection.count():\n",
    "    for _, row in df.iterrows():\n",
    "        collection.add(documents=row[\"Techstack\"],\n",
    "                       metadatas={\"links\": row[\"Links\"]},\n",
    "                       ids=[str(uuid.uuid4())])"
   ]
  },
  {
   "cell_type": "code",
   "execution_count": 16,
   "metadata": {},
   "outputs": [
    {
     "data": {
      "text/plain": [
       "{'roles': [{'role': 'Administrative Support',\n",
       "   'experience': None,\n",
       "   'skills': None,\n",
       "   'description': None},\n",
       "  {'role': 'Advanced Innovation',\n",
       "   'experience': None,\n",
       "   'skills': None,\n",
       "   'description': None},\n",
       "  {'role': 'Air Manufacturing Innovation',\n",
       "   'experience': None,\n",
       "   'skills': None,\n",
       "   'description': None},\n",
       "  {'role': 'Aviation',\n",
       "   'experience': None,\n",
       "   'skills': None,\n",
       "   'description': None},\n",
       "  {'role': 'Communications',\n",
       "   'experience': None,\n",
       "   'skills': None,\n",
       "   'description': None},\n",
       "  {'role': 'Customer Service',\n",
       "   'experience': None,\n",
       "   'skills': None,\n",
       "   'description': None},\n",
       "  {'role': 'Design', 'experience': None, 'skills': None, 'description': None},\n",
       "  {'role': 'Digital', 'experience': None, 'skills': None, 'description': None},\n",
       "  {'role': 'Facilities',\n",
       "   'experience': None,\n",
       "   'skills': None,\n",
       "   'description': None},\n",
       "  {'role': 'Finance & Accounting',\n",
       "   'experience': None,\n",
       "   'skills': None,\n",
       "   'description': None},\n",
       "  {'role': 'Government & Public Affairs',\n",
       "   'experience': None,\n",
       "   'skills': None,\n",
       "   'description': None},\n",
       "  {'role': 'Human Resources',\n",
       "   'experience': None,\n",
       "   'skills': None,\n",
       "   'description': None},\n",
       "  {'role': 'Insights & Analytics',\n",
       "   'experience': None,\n",
       "   'skills': None,\n",
       "   'description': None},\n",
       "  {'role': 'Legal', 'experience': None, 'skills': None, 'description': None},\n",
       "  {'role': 'Manufacturing & Engineering',\n",
       "   'experience': None,\n",
       "   'skills': None,\n",
       "   'description': None},\n",
       "  {'role': 'Marketing',\n",
       "   'experience': None,\n",
       "   'skills': None,\n",
       "   'description': None},\n",
       "  {'role': 'Merchandising',\n",
       "   'experience': None,\n",
       "   'skills': None,\n",
       "   'description': None},\n",
       "  {'role': 'Planning',\n",
       "   'experience': None,\n",
       "   'skills': None,\n",
       "   'description': None},\n",
       "  {'role': 'Privacy', 'experience': None, 'skills': None, 'description': None},\n",
       "  {'role': 'Procurement',\n",
       "   'experience': None,\n",
       "   'skills': None,\n",
       "   'description': None},\n",
       "  {'role': 'Product Creation, Development & Management',\n",
       "   'experience': None,\n",
       "   'skills': None,\n",
       "   'description': None},\n",
       "  {'role': 'Retail Corporate',\n",
       "   'experience': None,\n",
       "   'skills': None,\n",
       "   'description': None},\n",
       "  {'role': 'Retail Stores',\n",
       "   'experience': None,\n",
       "   'skills': None,\n",
       "   'description': None},\n",
       "  {'role': 'Sales', 'experience': None, 'skills': None, 'description': None},\n",
       "  {'role': 'Social & Community Impact',\n",
       "   'experience': None,\n",
       "   'skills': None,\n",
       "   'description': None},\n",
       "  {'role': 'Sports Marketing',\n",
       "   'experience': None,\n",
       "   'skills': None,\n",
       "   'description': None},\n",
       "  {'role': 'Strategic Planning',\n",
       "   'experience': None,\n",
       "   'skills': None,\n",
       "   'description': None},\n",
       "  {'role': 'Supply Chain, Distribution & Logistics',\n",
       "   'experience': None,\n",
       "   'skills': None,\n",
       "   'description': None},\n",
       "  {'role': 'Sustainability',\n",
       "   'experience': None,\n",
       "   'skills': None,\n",
       "   'description': None},\n",
       "  {'role': 'Technology',\n",
       "   'experience': None,\n",
       "   'skills': None,\n",
       "   'description': None}]}"
      ]
     },
     "execution_count": 16,
     "metadata": {},
     "output_type": "execute_result"
    }
   ],
   "source": [
    "job = json_res\n",
    "job"
   ]
  },
  {
   "cell_type": "code",
   "execution_count": 74,
   "metadata": {},
   "outputs": [
    {
     "name": "stdout",
     "output_type": "stream",
     "text": [
      "['None', 'None', 'None', 'None', 'None', 'None', 'None', 'None', 'None', 'None', 'None', 'None', 'None', 'None', 'None', 'None', 'None', 'None', 'None', 'None', 'None', 'None', 'None', 'None', 'None', 'None', 'None', 'None', 'None', 'None']\n"
     ]
    }
   ],
   "source": [
    "skills_list = [str(role['skills']) for role in job['roles']]\n",
    "print(skills_list)\n"
   ]
  },
  {
   "cell_type": "code",
   "execution_count": 76,
   "metadata": {},
   "outputs": [
    {
     "data": {
      "text/plain": [
       "[[{'links': 'https://example.com/ml-python-portfolio'},\n",
       "  {'links': 'https://example.com/ios-ar-portfolio'}],\n",
       " [{'links': 'https://example.com/ml-python-portfolio'},\n",
       "  {'links': 'https://example.com/ios-ar-portfolio'}],\n",
       " [{'links': 'https://example.com/ml-python-portfolio'},\n",
       "  {'links': 'https://example.com/ios-ar-portfolio'}],\n",
       " [{'links': 'https://example.com/ml-python-portfolio'},\n",
       "  {'links': 'https://example.com/ios-ar-portfolio'}],\n",
       " [{'links': 'https://example.com/ml-python-portfolio'},\n",
       "  {'links': 'https://example.com/ios-ar-portfolio'}],\n",
       " [{'links': 'https://example.com/ml-python-portfolio'},\n",
       "  {'links': 'https://example.com/ios-ar-portfolio'}],\n",
       " [{'links': 'https://example.com/ml-python-portfolio'},\n",
       "  {'links': 'https://example.com/ios-ar-portfolio'}],\n",
       " [{'links': 'https://example.com/ml-python-portfolio'},\n",
       "  {'links': 'https://example.com/ios-ar-portfolio'}],\n",
       " [{'links': 'https://example.com/ml-python-portfolio'},\n",
       "  {'links': 'https://example.com/ios-ar-portfolio'}],\n",
       " [{'links': 'https://example.com/ml-python-portfolio'},\n",
       "  {'links': 'https://example.com/ios-ar-portfolio'}],\n",
       " [{'links': 'https://example.com/ml-python-portfolio'},\n",
       "  {'links': 'https://example.com/ios-ar-portfolio'}],\n",
       " [{'links': 'https://example.com/ml-python-portfolio'},\n",
       "  {'links': 'https://example.com/ios-ar-portfolio'}],\n",
       " [{'links': 'https://example.com/ml-python-portfolio'},\n",
       "  {'links': 'https://example.com/ios-ar-portfolio'}],\n",
       " [{'links': 'https://example.com/ml-python-portfolio'},\n",
       "  {'links': 'https://example.com/ios-ar-portfolio'}],\n",
       " [{'links': 'https://example.com/ml-python-portfolio'},\n",
       "  {'links': 'https://example.com/ios-ar-portfolio'}],\n",
       " [{'links': 'https://example.com/ml-python-portfolio'},\n",
       "  {'links': 'https://example.com/ios-ar-portfolio'}],\n",
       " [{'links': 'https://example.com/ml-python-portfolio'},\n",
       "  {'links': 'https://example.com/ios-ar-portfolio'}],\n",
       " [{'links': 'https://example.com/ml-python-portfolio'},\n",
       "  {'links': 'https://example.com/ios-ar-portfolio'}],\n",
       " [{'links': 'https://example.com/ml-python-portfolio'},\n",
       "  {'links': 'https://example.com/ios-ar-portfolio'}],\n",
       " [{'links': 'https://example.com/ml-python-portfolio'},\n",
       "  {'links': 'https://example.com/ios-ar-portfolio'}],\n",
       " [{'links': 'https://example.com/ml-python-portfolio'},\n",
       "  {'links': 'https://example.com/ios-ar-portfolio'}],\n",
       " [{'links': 'https://example.com/ml-python-portfolio'},\n",
       "  {'links': 'https://example.com/ios-ar-portfolio'}],\n",
       " [{'links': 'https://example.com/ml-python-portfolio'},\n",
       "  {'links': 'https://example.com/ios-ar-portfolio'}],\n",
       " [{'links': 'https://example.com/ml-python-portfolio'},\n",
       "  {'links': 'https://example.com/ios-ar-portfolio'}],\n",
       " [{'links': 'https://example.com/ml-python-portfolio'},\n",
       "  {'links': 'https://example.com/ios-ar-portfolio'}],\n",
       " [{'links': 'https://example.com/ml-python-portfolio'},\n",
       "  {'links': 'https://example.com/ios-ar-portfolio'}],\n",
       " [{'links': 'https://example.com/ml-python-portfolio'},\n",
       "  {'links': 'https://example.com/ios-ar-portfolio'}],\n",
       " [{'links': 'https://example.com/ml-python-portfolio'},\n",
       "  {'links': 'https://example.com/ios-ar-portfolio'}],\n",
       " [{'links': 'https://example.com/ml-python-portfolio'},\n",
       "  {'links': 'https://example.com/ios-ar-portfolio'}],\n",
       " [{'links': 'https://example.com/ml-python-portfolio'},\n",
       "  {'links': 'https://example.com/ios-ar-portfolio'}]]"
      ]
     },
     "execution_count": 76,
     "metadata": {},
     "output_type": "execute_result"
    }
   ],
   "source": [
    "links = collection.query(query_texts=skills_list, n_results=2).get('metadatas', [])\n",
    "links"
   ]
  },
  {
   "cell_type": "code",
   "execution_count": 77,
   "metadata": {},
   "outputs": [
    {
     "name": "stdout",
     "output_type": "stream",
     "text": [
      "Subject: Unlocking Business Potential with AtliQ's AI & Software Solutions\n",
      "\n",
      "Dear Hiring Manager,\n",
      "\n",
      "I came across your job description and was impressed by the diverse range of roles you're looking to fill. As a Business Development Executive at AtliQ, I'd like to introduce you to our company's capabilities in facilitating seamless integration of business processes through automated tools.\n",
      "\n",
      "At AtliQ, we've empowered numerous enterprises with tailored solutions, fostering scalability, process optimization, cost reduction, and heightened overall efficiency. Our expertise spans various domains, including AI, machine learning, and software development. We've developed innovative solutions for industries such as retail, manufacturing, and finance, and have a proven track record of delivering high-quality projects on time.\n",
      "\n",
      "Our portfolio includes:\n",
      "\n",
      "* Machine learning and Python-based solutions: https://example.com/ml-python-portfolio\n",
      "* iOS and AR-based solutions: https://example.com/ios-ar-portfolio\n",
      "\n",
      "These solutions showcase our ability to develop cutting-edge technologies that drive business growth and improvement. I believe our expertise would be a great fit for your organization, particularly in roles such as Advanced Innovation, Digital, Insights & Analytics, Manufacturing & Engineering, and Technology.\n",
      "\n",
      "I'd love to schedule a call to discuss how AtliQ can support your business goals and help you achieve success. Please let me know if you're interested, and we can schedule a time that suits you.\n",
      "\n",
      "Best regards,\n",
      "\n",
      "Mohan\n",
      "Business Development Executive\n",
      "AtliQ\n"
     ]
    }
   ],
   "source": [
    "prompt_email = PromptTemplate.from_template(\n",
    "        \"\"\"\n",
    "        ### JOB DESCRIPTION:\n",
    "        {job_description}\n",
    "        \n",
    "        ### INSTRUCTION:\n",
    "        You are Mohan, a business development executive at AtliQ. AtliQ is an AI & Software Consulting company dedicated to facilitating\n",
    "        the seamless integration of business processes through automated tools. \n",
    "        Over our experience, we have empowered numerous enterprises with tailored solutions, fostering scalability, \n",
    "        process optimization, cost reduction, and heightened overall efficiency. \n",
    "        Your job is to write a cold email to the client regarding the job mentioned above describing the capability of AtliQ \n",
    "        in fulfilling their needs.\n",
    "        Also add the most relevant ones from the following links to showcase Atliq's portfolio: {link_list}\n",
    "        Remember you are Mohan, BDE at AtliQ. \n",
    "        Do not provide a preamble.\n",
    "        ### EMAIL (NO PREAMBLE):\n",
    "        \n",
    "        \"\"\"\n",
    "        )\n",
    "\n",
    "chain_email = prompt_email | llm\n",
    "res = chain_email.invoke({\"job_description\": str(job), \"link_list\": links})\n",
    "print(res.content)"
   ]
  },
  {
   "cell_type": "code",
   "execution_count": null,
   "metadata": {},
   "outputs": [],
   "source": []
  },
  {
   "cell_type": "code",
   "execution_count": null,
   "metadata": {},
   "outputs": [],
   "source": []
  },
  {
   "cell_type": "code",
   "execution_count": null,
   "metadata": {},
   "outputs": [],
   "source": []
  },
  {
   "cell_type": "code",
   "execution_count": null,
   "metadata": {},
   "outputs": [],
   "source": []
  },
  {
   "cell_type": "code",
   "execution_count": null,
   "metadata": {},
   "outputs": [],
   "source": []
  },
  {
   "cell_type": "code",
   "execution_count": null,
   "metadata": {},
   "outputs": [],
   "source": []
  },
  {
   "cell_type": "code",
   "execution_count": null,
   "metadata": {},
   "outputs": [],
   "source": []
  },
  {
   "cell_type": "code",
   "execution_count": 11,
   "metadata": {},
   "outputs": [
    {
     "name": "stdout",
     "output_type": "stream",
     "text": [
      "Name: python-dotenv\n",
      "Version: 1.0.1\n",
      "Summary: Read key-value pairs from a .env file and set them as environment variables\n",
      "Home-page: https://github.com/theskumar/python-dotenv\n",
      "Author: Saurabh Kumar\n",
      "Author-email: me+github@saurabh-kumar.com\n",
      "License: BSD-3-Clause\n",
      "Location: C:\\Users\\Aryan Kakran\\miniconda3\\Lib\\site-packages\n",
      "Requires: \n",
      "Required-by: pydantic-settings\n"
     ]
    }
   ],
   "source": [
    "!pip show python-dotenv\n"
   ]
  }
 ],
 "metadata": {
  "kernelspec": {
   "display_name": "emailenv",
   "language": "python",
   "name": "python3"
  },
  "language_info": {
   "codemirror_mode": {
    "name": "ipython",
    "version": 3
   },
   "file_extension": ".py",
   "mimetype": "text/x-python",
   "name": "python",
   "nbconvert_exporter": "python",
   "pygments_lexer": "ipython3",
   "version": "3.8.20"
  }
 },
 "nbformat": 4,
 "nbformat_minor": 2
}
